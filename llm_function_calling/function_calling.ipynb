{
 "cells": [
  {
   "cell_type": "markdown",
   "id": "eaf5bc49-e28e-4975-941a-be327b052a97",
   "metadata": {},
   "source": [
    "#### Get Inent and Entities using Function Calling"
   ]
  },
  {
   "cell_type": "code",
   "execution_count": 2,
   "id": "db3f5756-c266-42dd-861b-d7fa6601d8df",
   "metadata": {},
   "outputs": [],
   "source": [
    "import os\n",
    "import openai\n",
    "import json\n",
    "from dotenv import load_dotenv\n",
    "\n",
    "load_dotenv()\n",
    "\n",
    "# set openai api key\n",
    "openai.api_key = os.environ['OPENAI_API_KEY']"
   ]
  },
  {
   "cell_type": "code",
   "execution_count": 66,
   "id": "61be9f02-9ad3-43b0-aff7-72606e0989cb",
   "metadata": {},
   "outputs": [],
   "source": [
    "def get_completion(messages, model=\"gpt-4o-mini\", temperature=0, max_tokens=300, tools=None):\n",
    "    response = openai.chat.completions.create(\n",
    "        model=model,\n",
    "        messages=messages,\n",
    "        temperature=temperature,\n",
    "        max_tokens=max_tokens,\n",
    "        tools=tools,\n",
    "    )\n",
    "    return response.choices[0].message"
   ]
  },
  {
   "cell_type": "code",
   "execution_count": 57,
   "id": "af376f36-1d64-4a8c-b8de-ba68d0c0d18e",
   "metadata": {},
   "outputs": [],
   "source": [
    "### Define the functions for Intent and Entity Extraction"
   ]
  },
  {
   "cell_type": "code",
   "execution_count": 99,
   "id": "6f9f87d8-adba-41d9-92ac-49f3b65cac17",
   "metadata": {},
   "outputs": [],
   "source": [
    "tools = [\n",
    "    {\n",
    "        \"type\": \"function\",\n",
    "        \"function\": {\n",
    "            \"name\": \"get_intent_and_entity_cab_booking\",\n",
    "            \"description\": \"Get the Intent and entity for cab booking.\",\n",
    "            \"parameters\": {\n",
    "                \"type\": \"object\",\n",
    "                \"properties\": {\n",
    "                    \"Intent\": {\n",
    "                        \"type\": \"string\",\n",
    "                        \"description\": \"The Intent of the user, e.g. Book Cab\",\n",
    "                    },\n",
    "                     \"Entities\":{\n",
    "                    \t\"type\":\"object\",\n",
    "                        \"properties\": {\n",
    "                            \"entity_name\": {\n",
    "                            \"type\": \"string\", \n",
    "                            \"description\": \"Name of entity, e.g. source_location, dest_location.\"\n",
    "                        },\n",
    "                            \"entity_value\": {\n",
    "                            \"type\": \"string\", \n",
    "                            \"description\": \"The value of entity, e.g. Sector 12, Sector 15.\"\n",
    "                                }\n",
    "                          }\n",
    "                    }\n",
    "                },\n",
    "                \"required\": [\"Intent\"],\n",
    "            },\n",
    "        }, },\n",
    "    {\n",
    "        \"type\": \"function\",\n",
    "        \"function\": {\n",
    "            \"name\": \"get_intent_and_entity_fetch_booking\",\n",
    "            \"description\": \"Get the intent and entity for fetch booking.\",\n",
    "            \"parameters\": {\n",
    "                \"type\": \"object\",\n",
    "                \"properties\": {\n",
    "                    \"Intent\": {\n",
    "                        \"type\": \"string\",\n",
    "                        \"description\": \"The Intent of the user, e.g. Fech Booking\",\n",
    "                    },\n",
    "                    \"Entities\":{\n",
    "                        \"type\":\"object\",\n",
    "                        \"properties\": {\n",
    "                            \"entity_name\": {\n",
    "                                \"type\": \"string\", \n",
    "                                \"description\": \"Name of entities, e.g. source_location, dest_location, booking_date\"\n",
    "                            },\n",
    "                            \"entity_value\": {\n",
    "                                    \"type\": \"string\", \n",
    "                                    \"description\": \"The value of entities, e.g. Sector 12, Sector 15, 10th September\"\n",
    "                            }\n",
    "                    }\n",
    "                  }\n",
    "                },\n",
    "                \"required\": [\"Intent\", \"Entities\"],\n",
    "            },\n",
    "        },   \n",
    "    }\n",
    "]"
   ]
  },
  {
   "cell_type": "code",
   "execution_count": 100,
   "id": "662a1c1d-592a-46ce-a645-70b666b021c8",
   "metadata": {},
   "outputs": [],
   "source": [
    "def get_intent_entity(user_query):\n",
    "    messages = [\n",
    "        {\n",
    "            \"role\": \"user\",\n",
    "            \"content\": f\"{user_query}\"\n",
    "        }\n",
    "    ]\n",
    "    response = get_completion(messages, tools=tools)\n",
    "    return response"
   ]
  },
  {
   "cell_type": "code",
   "execution_count": 101,
   "id": "cd426fcc-fb64-445e-bb92-2693a15fa967",
   "metadata": {},
   "outputs": [],
   "source": [
    "responsw=get_intent_entity(\"Book a cab to India Gate?\")"
   ]
  },
  {
   "cell_type": "code",
   "execution_count": 102,
   "id": "194c20ca-a8e4-4321-a713-b907796cfb15",
   "metadata": {},
   "outputs": [
    {
     "data": {
      "text/plain": [
       "'{\"Intent\":\"Book Cab\",\"Entities\":{\"entity_name\":\"dest_location\",\"entity_value\":\"India Gate\"}}'"
      ]
     },
     "execution_count": 102,
     "metadata": {},
     "output_type": "execute_result"
    }
   ],
   "source": [
    "responsw.tool_calls[0].function.arguments"
   ]
  },
  {
   "cell_type": "code",
   "execution_count": null,
   "id": "100c6a08-093f-4ee1-b283-8f18b93d1a40",
   "metadata": {},
   "outputs": [],
   "source": []
  },
  {
   "cell_type": "code",
   "execution_count": null,
   "id": "6c72b3a8-c05e-4924-8eb3-e0bbca2be396",
   "metadata": {},
   "outputs": [],
   "source": []
  }
 ],
 "metadata": {
  "kernelspec": {
   "display_name": "Python 3 (ipykernel)",
   "language": "python",
   "name": "python3"
  },
  "language_info": {
   "codemirror_mode": {
    "name": "ipython",
    "version": 3
   },
   "file_extension": ".py",
   "mimetype": "text/x-python",
   "name": "python",
   "nbconvert_exporter": "python",
   "pygments_lexer": "ipython3",
   "version": "3.11.0"
  }
 },
 "nbformat": 4,
 "nbformat_minor": 5
}
