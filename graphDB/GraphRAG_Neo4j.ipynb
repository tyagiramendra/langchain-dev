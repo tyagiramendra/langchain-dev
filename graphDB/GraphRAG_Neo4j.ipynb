{
 "cells": [
  {
   "cell_type": "code",
   "execution_count": 2,
   "id": "bc0e7dae-fb88-43ed-bfc6-1b82fa1507ef",
   "metadata": {},
   "outputs": [],
   "source": [
    "# Rag Neo4j"
   ]
  },
  {
   "cell_type": "code",
   "execution_count": 20,
   "id": "1b049d32-1931-4a3d-8a99-ab8dff102491",
   "metadata": {},
   "outputs": [
    {
     "data": {
      "text/plain": [
       "True"
      ]
     },
     "execution_count": 20,
     "metadata": {},
     "output_type": "execute_result"
    }
   ],
   "source": [
    "from dotenv import load_dotenv\n",
    "load_dotenv()"
   ]
  },
  {
   "cell_type": "code",
   "execution_count": 24,
   "id": "a085c511-4bf8-4271-b337-23b807d1778e",
   "metadata": {},
   "outputs": [],
   "source": [
    "from langchain.chains import GraphCypherQAChain\n",
    "from langchain_community.graphs import Neo4jGraph\n",
    "import os\n",
    "from langchain_experimental.graph_transformers import LLMGraphTransformer\n",
    "from langchain_openai import ChatOpenAI\n",
    "from langchain_core.documents import Document\n",
    "from langchain_core.prompts import PromptTemplate\n",
    "from langchain_community.document_loaders import PyPDFLoader\n",
    "from langchain_text_splitters import TokenTextSplitter"
   ]
  },
  {
   "cell_type": "code",
   "execution_count": 22,
   "id": "a6f89333-5286-453f-bd77-4bf205743cce",
   "metadata": {},
   "outputs": [],
   "source": [
    "from langchain_groq import ChatGroq"
   ]
  },
  {
   "cell_type": "code",
   "execution_count": 13,
   "id": "67bcf5af-fc11-4387-9ec0-6321568b2bd7",
   "metadata": {},
   "outputs": [],
   "source": [
    "graph = Neo4jGraph(url=\"bolt://localhost:7687\", username=\"neo4j\", password=\"India@#2024\")"
   ]
  },
  {
   "cell_type": "markdown",
   "id": "a61c8780-44f1-413c-8ec8-0ae786111e3f",
   "metadata": {},
   "source": [
    "### Lamma3"
   ]
  },
  {
   "cell_type": "code",
   "execution_count": 14,
   "id": "733fc15a-3f61-4a04-9fff-71a779bb28ce",
   "metadata": {},
   "outputs": [],
   "source": [
    "llm3 = ChatGroq(\n",
    "    model=\"llama3-groq-70b-8192-tool-use-preview\",\n",
    "    temperature=0,\n",
    "    max_tokens=None,\n",
    "    timeout=None,\n",
    "    max_retries=2\n",
    ")"
   ]
  },
  {
   "cell_type": "markdown",
   "id": "af059495-066c-4553-adeb-24913288f94f",
   "metadata": {},
   "source": [
    "#### GPT 3.5"
   ]
  },
  {
   "cell_type": "code",
   "execution_count": 15,
   "id": "19c305dd-1e95-4d64-8b20-a9d17684b570",
   "metadata": {},
   "outputs": [],
   "source": [
    "llm = ChatOpenAI(temperature=0, model_name=\"gpt-3.5-turbo-0125\")"
   ]
  },
  {
   "cell_type": "code",
   "execution_count": null,
   "id": "98249fc6-900e-4513-a161-526837e005ba",
   "metadata": {},
   "outputs": [],
   "source": [
    "# llm_transformer = LLMGraphTransformer(llm=llm,\n",
    "# allowed_nodes=[\"Person\", \"Country\", \"Organization\"],\n",
    "# allowed_relationships=[\"NATIONALITY\", \"LOCATED_IN\", \"DESIGNATION\", \"SPOUSE\"])"
   ]
  },
  {
   "cell_type": "code",
   "execution_count": 16,
   "id": "51301fbf-fb22-46e9-a38e-69e273fd3d4d",
   "metadata": {},
   "outputs": [],
   "source": [
    "llm_transformer = LLMGraphTransformer(llm=llm)"
   ]
  },
  {
   "cell_type": "code",
   "execution_count": 25,
   "id": "0e64700b-4b86-4c13-9aeb-2096068db09b",
   "metadata": {},
   "outputs": [],
   "source": [
    "file = PyPDFLoader(\"Budget_Speech.pdf\")\n",
    "docs = file.load()\n",
    "text_splitter = TokenTextSplitter(chunk_size=512, chunk_overlap=24)\n",
    "documents = text_splitter.split_documents(docs)\n",
    "graph_documents = llm_transformer.convert_to_graph_documents(documents)"
   ]
  },
  {
   "cell_type": "code",
   "execution_count": 28,
   "id": "a7f2ac8b-8d2e-4f3e-ac15-b3a5899985d5",
   "metadata": {},
   "outputs": [
    {
     "name": "stdout",
     "output_type": "stream",
     "text": [
      "Nodes:[Node(id='Garib', type='Caste'), Node(id='Mahilayen', type='Caste'), Node(id='Yuva', type='Caste'), Node(id='Annadata', type='Caste'), Node(id='Pradhan Mantri Garib Kalyan Anna Yojana', type='Scheme'), Node(id='Msmes', type='Sector'), Node(id='Middle Class', type='Social group'), Node(id='Viksit Bharat', type='Strategy'), Node(id='Agriculture', type='Sector'), Node(id='Employment', type='Priority'), Node(id='Skilling', type='Priority'), Node(id='Human Resource Development', type='Priority'), Node(id='Social Justice', type='Priority'), Node(id='Manufacturing', type='Priority'), Node(id='Services', type='Priority'), Node(id='Urban Development', type='Priority'), Node(id='Energy Security', type='Priority'), Node(id='Infrastructure', type='Priority')]\n",
      "Relationships:[Relationship(source=Node(id='Annadata', type='Caste'), target=Node(id='Pradhan Mantri Garib Kalyan Anna Yojana', type='Scheme'), type='SUPPORTS'), Relationship(source=Node(id='Msmes', type='Sector'), target=Node(id='Yuva', type='Caste'), type='FOCUSES_ON'), Relationship(source=Node(id='Middle Class', type='Social group'), target=Node(id='Yuva', type='Caste'), type='FOCUSES_ON'), Relationship(source=Node(id='Viksit Bharat', type='Strategy'), target=Node(id='Viksit Bharat', type='Strategy'), type='ENVISAGES_PURSUIT_OF'), Relationship(source=Node(id='Agriculture', type='Sector'), target=Node(id='Agriculture', type='Priority'), type='FOCUSES_ON'), Relationship(source=Node(id='Employment', type='Priority'), target=Node(id='Employment', type='Priority'), type='SUSTAINED_EFFORTS_ON'), Relationship(source=Node(id='Skilling', type='Priority'), target=Node(id='Skilling', type='Priority'), type='SUSTAINED_EFFORTS_ON'), Relationship(source=Node(id='Human Resource Development', type='Priority'), target=Node(id='Human Resource Development', type='Priority'), type='SUSTAINED_EFFORTS_ON'), Relationship(source=Node(id='Social Justice', type='Priority'), target=Node(id='Social Justice', type='Priority'), type='SUSTAINED_EFFORTS_ON'), Relationship(source=Node(id='Manufacturing', type='Priority'), target=Node(id='Manufacturing', type='Priority'), type='SUSTAINED_EFFORTS_ON'), Relationship(source=Node(id='Services', type='Priority'), target=Node(id='Services', type='Priority'), type='SUSTAINED_EFFORTS_ON'), Relationship(source=Node(id='Urban Development', type='Priority'), target=Node(id='Urban Development', type='Priority'), type='SUSTAINED_EFFORTS_ON'), Relationship(source=Node(id='Energy Security', type='Priority'), target=Node(id='Energy Security', type='Priority'), type='SUSTAINED_EFFORTS_ON'), Relationship(source=Node(id='Infrastructure', type='Priority'), target=Node(id='Infrastructure', type='Priority'), type='SUSTAINED_EFFORTS_ON')]\n"
     ]
    }
   ],
   "source": [
    "print(f\"Nodes:{graph_documents[1].nodes}\")\n",
    "print(f\"Relationships:{graph_documents[1].relationships}\")"
   ]
  },
  {
   "cell_type": "code",
   "execution_count": 29,
   "id": "13b8214e-6df6-4fb1-a75a-6efea8c757a6",
   "metadata": {},
   "outputs": [],
   "source": [
    "graph.add_graph_documents(graph_documents, baseEntityLabel=True, include_source=True)\n",
    "graph.refresh_schema()"
   ]
  },
  {
   "cell_type": "code",
   "execution_count": 30,
   "id": "0e3726ab-cc5f-4311-85dc-61639b327134",
   "metadata": {},
   "outputs": [
    {
     "name": "stdout",
     "output_type": "stream",
     "text": [
      "Node properties:\n",
      "Person {id: STRING}\n",
      "Country {id: STRING}\n",
      "Organization {id: STRING}\n",
      "Event {id: STRING}\n",
      "Document {text: STRING, id: STRING, source: STRING, page: INTEGER}\n",
      "Concept {id: STRING}\n",
      "Position {id: STRING}\n",
      "Date {id: STRING}\n",
      "Group {id: STRING}\n",
      "Caste {id: STRING}\n",
      "Scheme {id: STRING}\n",
      "Sector {id: STRING}\n",
      "Social group {id: STRING}\n",
      "Strategy {id: STRING}\n",
      "Priority {id: STRING}\n",
      "Framework {id: STRING}\n",
      "Research setup {id: STRING}\n",
      "Varieties {id: STRING}\n",
      "Farming {id: STRING}\n",
      "Farmers {id: STRING}\n",
      "Process {id: STRING}\n",
      "Missions {id: STRING}\n",
      "Relationship properties:\n",
      "\n",
      "The relationships:\n",
      "(:Person)-[:FACING]->(:Concept)\n",
      "(:Person)-[:BORN_AFTER]->(:Event)\n",
      "(:Person)-[:IMPACTED]->(:Concept)\n",
      "(:Person)-[:PRECEDED]->(:Concept)\n",
      "(:Person)-[:REACHING]->(:Concept)\n",
      "(:Person)-[:MENTIONED]->(:Group)\n",
      "(:Person)-[:HOLDS_POSITION]->(:Position)\n",
      "(:Person)-[:GAVE_SPEECH_ON]->(:Date)\n",
      "(:Person)-[:ADDRESSED]->(:Person)\n",
      "(:Organization)-[:ESTIMATES_POPULATION]->(:Person)\n",
      "(:Document)-[:MENTIONS]->(:Organization)\n",
      "(:Document)-[:MENTIONS]->(:Person)\n",
      "(:Document)-[:MENTIONS]->(:Concept)\n",
      "(:Document)-[:MENTIONS]->(:Event)\n",
      "(:Document)-[:MENTIONS]->(:Country)\n",
      "(:Document)-[:MENTIONS]->(:Group)\n",
      "(:Document)-[:MENTIONS]->(:Date)\n",
      "(:Document)-[:MENTIONS]->(:Position)\n",
      "(:Document)-[:MENTIONS]->(:Priority)\n",
      "(:Document)-[:MENTIONS]->(:Sector)\n",
      "(:Document)-[:MENTIONS]->(:Social group)\n",
      "(:Document)-[:MENTIONS]->(:Strategy)\n",
      "(:Document)-[:MENTIONS]->(:Scheme)\n",
      "(:Document)-[:MENTIONS]->(:Caste)\n",
      "(:Document)-[:MENTIONS]->(:Varieties)\n",
      "(:Document)-[:MENTIONS]->(:Missions)\n",
      "(:Document)-[:MENTIONS]->(:Farmers)\n",
      "(:Document)-[:MENTIONS]->(:Framework)\n",
      "(:Document)-[:MENTIONS]->(:Research setup)\n",
      "(:Document)-[:MENTIONS]->(:Process)\n",
      "(:Document)-[:MENTIONS]->(:Farming)\n",
      "(:Concept)-[:MENTIONED]->(:Country)\n",
      "(:Caste)-[:SUPPORTS]->(:Scheme)\n",
      "(:Sector)-[:FOCUSES_ON]->(:Caste)\n",
      "(:Sector)-[:FOCUSES_ON]->(:Sector)\n",
      "(:Social group)-[:FOCUSES_ON]->(:Caste)\n",
      "(:Strategy)-[:ENVISAGES_PURSUIT_OF]->(:Strategy)\n",
      "(:Priority)-[:SUSTAINED_EFFORTS_ON]->(:Priority)\n",
      "(:Priority)-[:PART_OF]->(:Framework)\n",
      "(:Priority)-[:FOCUS_ON]->(:Research setup)\n",
      "(:Research setup)-[:FOCUS_ON]->(:Varieties)\n",
      "(:Farming)-[:SUPPORTED_BY]->(:Process)\n",
      "(:Farming)-[:IMPLEMENTED_THROUGH]->(:Research setup)\n",
      "(:Farmers)-[:INITIATED_INTO]->(:Farming)\n",
      "(:Farmers)-[:SUPPORTED_BY]->(:Process)\n",
      "(:Missions)-[:STRENGTHENING_OF]->(:Research setup)\n"
     ]
    }
   ],
   "source": [
    "print(graph.schema)"
   ]
  },
  {
   "cell_type": "markdown",
   "id": "df2204af-8f53-4b6a-b9cc-765e5e787ffb",
   "metadata": {},
   "source": [
    "#### Query Graph DB"
   ]
  },
  {
   "cell_type": "code",
   "execution_count": 31,
   "id": "88b812b6-e184-4418-b62a-a978c2649f1a",
   "metadata": {},
   "outputs": [],
   "source": [
    "from langchain.chains import GraphCypherQAChain"
   ]
  },
  {
   "cell_type": "code",
   "execution_count": null,
   "id": "6c6e7f8c-e50f-4e2b-8196-33dfb8bd3315",
   "metadata": {},
   "outputs": [],
   "source": [
    "# Prompt"
   ]
  },
  {
   "cell_type": "code",
   "execution_count": 62,
   "id": "4b844089-a75b-48a9-afc9-a0bf56372dca",
   "metadata": {},
   "outputs": [],
   "source": [
    "CYPHER_GENERATION_PROMPT = PromptTemplate(\n",
    "    input_variables=[\"schema\", \"question\"], \n",
    "    template=CYPHER_GENERATION_TEMPLATE\n",
    ")"
   ]
  },
  {
   "cell_type": "code",
   "execution_count": 32,
   "id": "373f1db1-fa30-4696-aedc-5e934c1a0d30",
   "metadata": {},
   "outputs": [],
   "source": [
    "chain = GraphCypherQAChain.from_llm(\n",
    "    llm, graph=graph, verbose=True\n",
    ")"
   ]
  },
  {
   "cell_type": "code",
   "execution_count": 52,
   "id": "ead06243-cbcf-4d3a-a337-8fa21402a63b",
   "metadata": {},
   "outputs": [
    {
     "name": "stdout",
     "output_type": "stream",
     "text": [
      "\n",
      "\n",
      "\u001b[1m> Entering new GraphCypherQAChain chain...\u001b[0m\n",
      "Generated Cypher:\n",
      "\u001b[32;1m\u001b[1;3mMATCH (v:Varieties) RETURN COUNT(v)\u001b[0m\n",
      "Full Context:\n",
      "\u001b[32;1m\u001b[1;3m[{'COUNT(v)': 2}]\u001b[0m\n",
      "\n",
      "\u001b[1m> Finished chain.\u001b[0m\n"
     ]
    },
    {
     "data": {
      "text/plain": [
       "{'query': 'how many New Varieties are introduced?',\n",
       " 'result': 'Based on the information provided, 2 new varieties are introduced.'}"
      ]
     },
     "execution_count": 52,
     "metadata": {},
     "output_type": "execute_result"
    }
   ],
   "source": [
    "chain.invoke({\"query\": \"how many New Varieties are introduced?\"})"
   ]
  },
  {
   "cell_type": "code",
   "execution_count": null,
   "id": "c09ad824-1abe-4efc-82e8-a2d9bc6e91d1",
   "metadata": {},
   "outputs": [],
   "source": []
  }
 ],
 "metadata": {
  "kernelspec": {
   "display_name": "Python 3 (ipykernel)",
   "language": "python",
   "name": "python3"
  },
  "language_info": {
   "codemirror_mode": {
    "name": "ipython",
    "version": 3
   },
   "file_extension": ".py",
   "mimetype": "text/x-python",
   "name": "python",
   "nbconvert_exporter": "python",
   "pygments_lexer": "ipython3",
   "version": "3.11.0"
  }
 },
 "nbformat": 4,
 "nbformat_minor": 5
}
