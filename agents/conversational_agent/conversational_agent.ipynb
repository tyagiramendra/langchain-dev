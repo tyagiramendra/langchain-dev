{
 "cells": [
  {
   "cell_type": "code",
   "execution_count": 1,
   "id": "bc46b3bf-1087-4469-90d0-e723abfafec8",
   "metadata": {},
   "outputs": [],
   "source": [
    "import os\n",
    "import wikipediaapi\n",
    "from langchain.schema.runnable import RunnablePassthrough\n",
    "from langchain.prompts import ChatPromptTemplate, ChatMessagePromptTemplate\n",
    "from langchain_openai import ChatOpenAI\n",
    "from langchain.prompts import ChatPromptTemplate, MessagesPlaceholder\n",
    "from langchain.tools import BaseTool, StructuredTool, tool\n",
    "from serpapi import GoogleSearch\n",
    "from pydantic import BaseModel, Field\n",
    "from dotenv import load_dotenv\n",
    "_ = load_dotenv()\n",
    "serp_api_key = os.environ.get('SERP_API_KEY')"
   ]
  },
  {
   "cell_type": "markdown",
   "id": "814bf01a-d27b-4e21-a32d-300791d69364",
   "metadata": {},
   "source": [
    "##### Create Agent using Langgraph"
   ]
  },
  {
   "cell_type": "code",
   "execution_count": 2,
   "id": "5d71cfcb-c8cb-40cd-8b7e-88615cedaa86",
   "metadata": {},
   "outputs": [],
   "source": [
    "from langgraph.checkpoint.memory import MemorySaver  \n",
    "from langgraph.prebuilt import create_react_agent"
   ]
  },
  {
   "cell_type": "markdown",
   "id": "eb14d53e-3be9-470a-b20d-55fb77738357",
   "metadata": {},
   "source": [
    "##### Tools"
   ]
  },
  {
   "cell_type": "code",
   "execution_count": 3,
   "id": "d3645bb4-0d09-4fdf-8139-15215f480656",
   "metadata": {},
   "outputs": [],
   "source": [
    "@tool\n",
    "def search_wikipedia(query: str):\n",
    "    \"\"\"Search wikipedia for factual information.\"\"\"\n",
    "    wiki_api=wikipediaapi.Wikipedia(\"Info Agent\",\"en\")\n",
    "    page = wiki_api.page(query)\n",
    "    if page.exists():\n",
    "        return  page.summary[:500]  \n",
    "    return 'No relevant information found.'\n",
    "\n",
    "@tool\n",
    "def search_google(query: str):\n",
    "    \"\"\"Google Search: Search google for latest updates and news.\"\"\"\n",
    "    search = GoogleSearch({\"q\": query, \"api_key\": serp_api_key})\n",
    "    results = search.get_dict()\n",
    "    if 'organic_results' in results:\n",
    "        top_result = results['organic_results'][0]\n",
    "        title = top_result.get(\"title\")\n",
    "        link = top_result.get(\"link\")\n",
    "        snippet = top_result.get(\"snippet\")\n",
    "        return  snippet\n",
    "    return 'No relevant information found.'"
   ]
  },
  {
   "cell_type": "markdown",
   "id": "b329d5aa-1944-45c6-b4a6-8cc0fb9a448b",
   "metadata": {},
   "source": [
    "##### Create Agent using langgraph prebuild react agent"
   ]
  },
  {
   "cell_type": "code",
   "execution_count": 4,
   "id": "998b5785-7c5b-41fe-92e3-656ed41e6b01",
   "metadata": {},
   "outputs": [],
   "source": [
    "memory = MemorySaver()\n",
    "model = ChatOpenAI(temperature=0)\n",
    "tools = [search_google, search_wikipedia]\n",
    "system_message=\"You are helpful but sassy assistant\""
   ]
  },
  {
   "cell_type": "code",
   "execution_count": 5,
   "id": "50df3091-0e89-4d3e-b7b4-6628e7a1412b",
   "metadata": {},
   "outputs": [],
   "source": [
    "langgraph_agent_executor = create_react_agent(\n",
    "    model, tools, state_modifier=system_message, checkpointer=memory\n",
    ")"
   ]
  },
  {
   "cell_type": "code",
   "execution_count": 8,
   "id": "df311f23-396c-45a0-b420-029d54fa2c69",
   "metadata": {},
   "outputs": [],
   "source": [
    "config = {\"configurable\": {\"thread_id\": \"test-thread\"}}\n",
    "results=langgraph_agent_executor.invoke({\"messages\": [(\"user\", \"What is covid 19\")]},\n",
    "    config\n",
    ")[\"messages\"][-1].content"
   ]
  },
  {
   "cell_type": "code",
   "execution_count": 9,
   "id": "efe3fecf-cd32-46de-920d-a281cc2b6269",
   "metadata": {},
   "outputs": [
    {
     "data": {
      "text/plain": [
       "'COVID-19, also known as Coronavirus disease 2019, is a contagious disease caused by the coronavirus SARS-CoV-2. The first known case was identified in Wuhan, China, in December 2019. It is believed that the virus entered human populations through natural zoonosis. Various social and environmental factors have contributed to the spread of the virus.'"
      ]
     },
     "execution_count": 9,
     "metadata": {},
     "output_type": "execute_result"
    }
   ],
   "source": [
    "results"
   ]
  }
 ],
 "metadata": {
  "kernelspec": {
   "display_name": "Python 3 (ipykernel)",
   "language": "python",
   "name": "python3"
  },
  "language_info": {
   "codemirror_mode": {
    "name": "ipython",
    "version": 3
   },
   "file_extension": ".py",
   "mimetype": "text/x-python",
   "name": "python",
   "nbconvert_exporter": "python",
   "pygments_lexer": "ipython3",
   "version": "3.11.0"
  }
 },
 "nbformat": 4,
 "nbformat_minor": 5
}
